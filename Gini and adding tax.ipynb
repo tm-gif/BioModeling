{
 "cells": [
  {
   "cell_type": "code",
   "execution_count": 1,
   "metadata": {},
   "outputs": [],
   "source": [
    "import numpy as np\n",
    "import matplotlib.pyplot as plt"
   ]
  },
  {
   "cell_type": "code",
   "execution_count": 20,
   "metadata": {},
   "outputs": [],
   "source": [
    " #Define a function to calculate Gini coefficient\n",
    "def gini(x):\n",
    "    y = np.sort(x) # We need to sort them by wealth\n",
    "    upper_sum = 0\n",
    "    n = len(x)\n",
    "    for i in range(n):\n",
    "        upper_sum += (i+1)*y[i]\n",
    "    return 1-2/(n-1)*( n - upper_sum/sum(y) )"
   ]
  },
  {
   "cell_type": "code",
   "execution_count": 25,
   "metadata": {},
   "outputs": [
    {
     "ename": "TypeError",
     "evalue": "arange() missing required argument 'start' (pos 1)",
     "output_type": "error",
     "traceback": [
      "\u001b[0;31m---------------------------------------------------------------------------\u001b[0m",
      "\u001b[0;31mTypeError\u001b[0m                                 Traceback (most recent call last)",
      "\u001b[0;32m<ipython-input-25-58c285fbdf64>\u001b[0m in \u001b[0;36m<module>\u001b[0;34m\u001b[0m\n\u001b[1;32m     12\u001b[0m \u001b[0mgini_history\u001b[0m \u001b[0;34m=\u001b[0m \u001b[0mnp\u001b[0m\u001b[0;34m.\u001b[0m\u001b[0mzeros\u001b[0m\u001b[0;34m(\u001b[0m\u001b[0mnsteps\u001b[0m\u001b[0;34m)\u001b[0m\u001b[0;34m\u001b[0m\u001b[0;34m\u001b[0m\u001b[0m\n\u001b[1;32m     13\u001b[0m \u001b[0;34m\u001b[0m\u001b[0m\n\u001b[0;32m---> 14\u001b[0;31m \u001b[0;32mfor\u001b[0m \u001b[0mtax\u001b[0m \u001b[0;32min\u001b[0m \u001b[0mnp\u001b[0m\u001b[0;34m.\u001b[0m\u001b[0marange\u001b[0m\u001b[0;34m(\u001b[0m\u001b[0mlow\u001b[0m \u001b[0;34m=\u001b[0m \u001b[0;36m0\u001b[0m\u001b[0;34m,\u001b[0m \u001b[0mhigh\u001b[0m \u001b[0;34m=\u001b[0m \u001b[0;36m.16\u001b[0m\u001b[0;34m,\u001b[0m \u001b[0mstep\u001b[0m \u001b[0;34m=\u001b[0m \u001b[0;36m.01\u001b[0m\u001b[0;34m)\u001b[0m\u001b[0;34m:\u001b[0m\u001b[0;34m\u001b[0m\u001b[0;34m\u001b[0m\u001b[0m\n\u001b[0m\u001b[1;32m     15\u001b[0m     \u001b[0;32mfor\u001b[0m \u001b[0mt\u001b[0m \u001b[0;32min\u001b[0m \u001b[0mrange\u001b[0m\u001b[0;34m(\u001b[0m\u001b[0;36m1\u001b[0m\u001b[0;34m,\u001b[0m \u001b[0mnsteps\u001b[0m\u001b[0;34m)\u001b[0m\u001b[0;34m:\u001b[0m\u001b[0;34m\u001b[0m\u001b[0;34m\u001b[0m\u001b[0m\n\u001b[1;32m     16\u001b[0m         \u001b[0mwealth\u001b[0m \u001b[0;34m[\u001b[0m\u001b[0mt\u001b[0m\u001b[0;34m,\u001b[0m\u001b[0;34m:\u001b[0m\u001b[0;34m]\u001b[0m \u001b[0;34m=\u001b[0m \u001b[0mwealth\u001b[0m\u001b[0;34m[\u001b[0m\u001b[0mt\u001b[0m\u001b[0;34m-\u001b[0m\u001b[0;36m1\u001b[0m\u001b[0;34m,\u001b[0m\u001b[0;34m:\u001b[0m\u001b[0;34m]\u001b[0m\u001b[0;34m*\u001b[0m\u001b[0;34m(\u001b[0m\u001b[0;36m1\u001b[0m\u001b[0;34m+\u001b[0m\u001b[0minterest\u001b[0m\u001b[0;34m)\u001b[0m \u001b[0;31m#keeps the changes made\u001b[0m\u001b[0;34m\u001b[0m\u001b[0;34m\u001b[0m\u001b[0m\n",
      "\u001b[0;31mTypeError\u001b[0m: arange() missing required argument 'start' (pos 1)"
     ]
    }
   ],
   "source": [
    "nsteps =1000\n",
    "npeople = 10\n",
    "coin = .1\n",
    "trade_per_step = 10\n",
    "\n",
    "interest=.001\n",
    "#rate = .01\n",
    "#totalTax = 0\n",
    "tax = .01\n",
    "    \n",
    "wealth = np.ones(shape = (nsteps,npeople))\n",
    "gini_history = np.zeros(nsteps)\n",
    "    \n",
    "for tax in np.arange(low = 0, high = .16, step = .01):\n",
    "    for t in range(1, nsteps):\n",
    "        wealth [t,:] = wealth[t-1,:]*(1+interest) #keeps the changes made \n",
    "\n",
    "        totalTax = np.sum(wealth[t,:])*tax #Total Tax collected\n",
    "        wealth[t,:] = wealth[t,:]*(1-tax)  #Reduce the amount collected\n",
    "        wealth[t,:] += totalTax/npeople #redistribute the tax\n",
    "\n",
    "        for i in range(trade_per_step):\n",
    "            p1 = np.random.randint(low = 0, high = npeople) #picks random p1 and p2\n",
    "            p2 = np.random.randint(low = 0, high = npeople)\n",
    "\n",
    "            if wealth[t,p1] > 0:\n",
    "                wealth[t,p1] = coin\n",
    "                wealth[t,p2] = coin\n",
    "        gini_history[t] = gini(wealth[t,:]) # Calculate gini index for the current distribution of wealth\n",
    "\n",
    "\n",
    "                \n",
    "                \n",
    "#PLOTS                \n",
    "plt.figure(figsize = (15,5))\n",
    "plt.subplot(1,3,1)\n",
    "plt.hist(wealth[-1,:], bins = 10) \n",
    "plt.xlabel(\"wealth\")\n",
    "plt.ylabel(\"count\")\n",
    "\n",
    "\n",
    "plt.subplot(1,2,2)\n",
    "poor_one = np.argmin(wealth[-1,:])\n",
    "rich_one = np.argmax(wealth[-1,:])\n",
    "plt.plot(wealth[:,poor_one])\n",
    "plt.plot(wealth[:,rich_one])\n",
    "plt.xlabel(\"Time\")\n",
    "plt.ylabel(\"wealth\")\n",
    "\n",
    "plt.subplot(1,3,3)\n",
    "plt.plot(gini_history);\n",
    "plt.xlabel('Time');\n",
    "plt.ylabel('Gini index');\n"
   ]
  },
  {
   "cell_type": "code",
   "execution_count": null,
   "metadata": {},
   "outputs": [],
   "source": []
  },
  {
   "cell_type": "code",
   "execution_count": null,
   "metadata": {},
   "outputs": [],
   "source": []
  }
 ],
 "metadata": {
  "kernelspec": {
   "display_name": "Python 3",
   "language": "python",
   "name": "python3"
  },
  "language_info": {
   "codemirror_mode": {
    "name": "ipython",
    "version": 3
   },
   "file_extension": ".py",
   "mimetype": "text/x-python",
   "name": "python",
   "nbconvert_exporter": "python",
   "pygments_lexer": "ipython3",
   "version": "3.7.4"
  }
 },
 "nbformat": 4,
 "nbformat_minor": 2
}
