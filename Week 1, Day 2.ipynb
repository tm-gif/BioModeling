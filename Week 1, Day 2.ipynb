{
 "cells": [
  {
   "cell_type": "code",
   "execution_count": null,
   "metadata": {},
   "outputs": [],
   "source": []
  },
  {
   "cell_type": "code",
   "execution_count": null,
   "metadata": {},
   "outputs": [],
   "source": [
    "#z - undo\n",
    "#DD - delete\n",
    "#A - above\n",
    "#control enter - run"
   ]
  },
  {
   "cell_type": "code",
   "execution_count": 3,
   "metadata": {
    "scrolled": true
   },
   "outputs": [
    {
     "name": "stdout",
     "output_type": "stream",
     "text": [
      "2\n",
      "I have a lovely dog named spot\n",
      "I have a lovely dog named Fido\n",
      "I have a lovely dog named Max\n",
      "I have a lovely dog named Res\n"
     ]
    }
   ],
   "source": [
    "#Functions\n",
    "\n",
    "# Functions that do things but don't talk back (VOID)\n",
    "#Built-in Function\n",
    "print(2)\n",
    "\n",
    "#Sad life of a person who wrote the same code many times\n",
    "\n",
    "print(\"I have a lovely dog named spot\")\n",
    "print(\"I have a lovely dog named Fido\")\n",
    "print(\"I have a lovely dog named Max\")\n",
    "print(\"I have a lovely dog named Rexs\")"
   ]
  },
  {
   "cell_type": "code",
   "execution_count": 4,
   "metadata": {},
   "outputs": [
    {
     "name": "stdout",
     "output_type": "stream",
     "text": [
      "I have a lovely dog named Teddy\n"
     ]
    }
   ],
   "source": [
    "def express_love(name = \"Dog\"): #creates a default value\n",
    "    print(\"I have a lovely dog named\", name)\n",
    "express_love(\"Teddy\")\n",
    "express_love()#default value\n"
   ]
  },
  {
   "cell_type": "code",
   "execution_count": 7,
   "metadata": {},
   "outputs": [
    {
     "name": "stdout",
     "output_type": "stream",
     "text": [
      "I have a lovely dog named Teddy\n",
      "Glory to all living things!\n"
     ]
    }
   ],
   "source": [
    "def express_love_new(name=None): #creates a default value, so no error if called without arguments\n",
    "    \"\"\"Expresses love to all creation, or a specific dog.\"\"\" #Documentation string I’m (docstring)\n",
    "    if name is None: #special case\n",
    "        print(\"Glory to all living things!\")\n",
    "    else:\n",
    "        print(\"I have a lovely dog named\", name)\n",
    "        \n",
    "        \n",
    "express_love_new(\"Teddy\")\n",
    "express_love_new()#default value\n"
   ]
  },
  {
   "cell_type": "code",
   "execution_count": 8,
   "metadata": {},
   "outputs": [
    {
     "data": {
      "text/plain": [
       "<function __main__.express_love(name)>"
      ]
     },
     "execution_count": 8,
     "metadata": {},
     "output_type": "execute_result"
    }
   ],
   "source": [
    "express_love #if you call a function name without (), instead of running the function, it returns the function itself"
   ]
  },
  {
   "cell_type": "code",
   "execution_count": 10,
   "metadata": {},
   "outputs": [
    {
     "name": "stdout",
     "output_type": "stream",
     "text": [
      "['Spot', 'Fido', 'Reks', 'Teddy']\n",
      "I have a lovely dog named Spot\n",
      "I have a lovely dog named Fido\n",
      "I have a lovely dog named Reks\n",
      "I have a lovely dog named Teddy\n"
     ]
    }
   ],
   "source": [
    "#Let's glorify several things in one go\n",
    "\n",
    "names = ['Spot', 'Fido', 'Reks', 'Teddy']\n",
    "print(names)\n",
    "\n",
    "for name in names: #'for' makes yout running variable 'name' take values from the list 'names', one by one\n",
    "    express_love_new(name)"
   ]
  },
  {
   "cell_type": "code",
   "execution_count": 11,
   "metadata": {},
   "outputs": [
    {
     "name": "stdout",
     "output_type": "stream",
     "text": [
      "4\n",
      "14\n",
      "5\n",
      "14\n",
      "5\n"
     ]
    }
   ],
   "source": [
    "#Functions that do something and give back\n",
    "\n",
    "# Built-in\n",
    "print(len(names)) #takes something and returns the length of it\n",
    "\n",
    "#To calculate x^2 repeatedly\n",
    "\n",
    "print(3**2+5)\n",
    "print(0**2+5)\n",
    "\n",
    "\n",
    "def my_calc(x): #chose to not give default value so it will protest\n",
    "    \"\"\"Calculates this very important formula on which our life hinges\"\"\"\n",
    "    return x**2+ 5\n",
    "print(my_calc(3))\n",
    "print(my_calc(0))"
   ]
  },
  {
   "cell_type": "code",
   "execution_count": null,
   "metadata": {},
   "outputs": [],
   "source": []
  },
  {
   "cell_type": "code",
   "execution_count": null,
   "metadata": {},
   "outputs": [],
   "source": []
  },
  {
   "cell_type": "code",
   "execution_count": null,
   "metadata": {},
   "outputs": [],
   "source": []
  },
  {
   "cell_type": "code",
   "execution_count": null,
   "metadata": {},
   "outputs": [],
   "source": []
  },
  {
   "cell_type": "code",
   "execution_count": null,
   "metadata": {},
   "outputs": [],
   "source": []
  }
 ],
 "metadata": {
  "kernelspec": {
   "display_name": "Python 3",
   "language": "python",
   "name": "python3"
  },
  "language_info": {
   "codemirror_mode": {
    "name": "ipython",
    "version": 3
   },
   "file_extension": ".py",
   "mimetype": "text/x-python",
   "name": "python",
   "nbconvert_exporter": "python",
   "pygments_lexer": "ipython3",
   "version": "3.7.4"
  }
 },
 "nbformat": 4,
 "nbformat_minor": 2
}
