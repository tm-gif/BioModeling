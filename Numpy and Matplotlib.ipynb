{
 "cells": [
  {
   "cell_type": "markdown",
   "metadata": {},
   "source": [
    "# Numpy and Matplotlib\n",
    "\n",
    "1. To use libraries, we need to import them (done at the beginning)"
   ]
  },
  {
   "cell_type": "code",
   "execution_count": 16,
   "metadata": {},
   "outputs": [],
   "source": [
    "import numpy as np\n",
    "import matplotlib.pyplot as plt"
   ]
  },
  {
   "cell_type": "code",
   "execution_count": null,
   "metadata": {},
   "outputs": [],
   "source": []
  },
  {
   "cell_type": "code",
   "execution_count": 5,
   "metadata": {},
   "outputs": [
    {
     "data": {
      "text/plain": [
       "3.0"
      ]
     },
     "execution_count": 5,
     "metadata": {},
     "output_type": "execute_result"
    }
   ],
   "source": [
    "np.sqrt(9)"
   ]
  },
  {
   "cell_type": "markdown",
   "metadata": {},
   "source": [
    "Before we start, the difference between numpy and lists"
   ]
  },
  {
   "cell_type": "code",
   "execution_count": 6,
   "metadata": {},
   "outputs": [
    {
     "name": "stdout",
     "output_type": "stream",
     "text": [
      "[1, 2, 3]\n",
      "[1, 2, 3, 1, 2, 3]\n",
      "[1, 2, 3, 1, 2, 3, 1, 2, 3]\n"
     ]
    }
   ],
   "source": [
    "#Lets creat a list, and add to it\n",
    "a=[1,2,3]\n",
    "print(a)\n",
    "\n",
    "#Can you add a number to a list?\n",
    "#print(a+1) #No have to use a loop\n",
    "\n",
    "print(a+a) #can add two lists together and it concatentes the list\n",
    "\n",
    "#you can multiply lists, but it repeats the list instead of multiplying the elements\n",
    "print(a*3)"
   ]
  },
  {
   "cell_type": "code",
   "execution_count": 10,
   "metadata": {},
   "outputs": [
    {
     "name": "stdout",
     "output_type": "stream",
     "text": [
      "[1 2 3]\n",
      "2\n",
      "[11 12 13]\n"
     ]
    }
   ],
   "source": [
    "#For math, we use Numpy arrays\n",
    "\n",
    "b=np.array([1,2,3])\n",
    "print(b)\n",
    "\n",
    "#to access elements\n",
    "print(b[1])\n",
    "#add numbe to it\n",
    "print(b+10)\n",
    "\n",
    "#multiply by a number\n",
    "print(B*5)\n",
    "\n",
    "#add two arrays together (does so element by element)\n",
    "print(b+b)\n",
    "\n",
    "#what if the arrays are of different sizes\n",
    "print(b+ np.array([1,2])) #wouldn't work"
   ]
  },
  {
   "cell_type": "code",
   "execution_count": 14,
   "metadata": {},
   "outputs": [],
   "source": [
    "#can almost add strings to a numpy array\n",
    "b1 = np.char.array([\"d\",\"a\"])"
   ]
  },
  {
   "cell_type": "code",
   "execution_count": 15,
   "metadata": {},
   "outputs": [
    {
     "name": "stdout",
     "output_type": "stream",
     "text": [
      "[1 4 9]\n"
     ]
    }
   ],
   "source": [
    "# Most functions can be called on a vector (like array), and they just apply themselves to every element\n",
    "print(b**2)\n",
    "print(np.sqrt(b))"
   ]
  },
  {
   "cell_type": "code",
   "execution_count": 38,
   "metadata": {
    "scrolled": true
   },
   "outputs": [
    {
     "data": {
      "image/png": "[encoded data removed]",
      "text/plain": [
       "<Figure size 360x360 with 1 Axes>"
      ]
     },
     "metadata": {
      "needs_background": "light"
     },
     "output_type": "display_data"
    }
   ],
   "source": [
    "#Trying to make a plot\n",
    "x = np.arange(start=0, stop=10, step=0.2) #creates 10 numbers 0 to 9; can remove the start and stop\n",
    "#print(x)\n",
    "\n",
    "plt.figure(figsize = (5,5)) #creates a figure. (5,5) ere is s tsuple, a new data type ca\n",
    "plt.plot(x, np.sin(x)+x/5); #Semicolon suppresses the output for this object thing. Looks neater\n",
    "plt.xlabel(\"Examps\");\n",
    "plt.ylabel(\"Outs\");\n",
    "plt.plot(x, np.sqrt(x), 'k-.');#r specifies color #adding '.' makes it dots and adding - creates dashes"
   ]
  },
  {
   "cell_type": "markdown",
   "metadata": {},
   "source": [
    "# Birthdays Exercise"
   ]
  },
  {
   "cell_type": "code",
   "execution_count": null,
   "metadata": {},
   "outputs": [],
   "source": [
    "p = np.zeros(100)"
   ]
  },
  {
   "cell_type": "code",
   "execution_count": null,
   "metadata": {},
   "outputs": [],
   "source": [
    "n = 365\n",
    "p = np.zeros(n) #probability of not having a matching birthday\n",
    "p[1]=1 #base case\n",
    "p[0]=1\n",
    "for i in range(2,n): #range starts at 2 to n-1\n",
    "    #Calculate the probability that the new person doesn't have a matching birthday\n",
    "    #Using this new value we just calculated, and a value p[i-1], calculatep[i]\n",
    "    \n",
    "    #p(i) = p()*p[i-1]\n",
    "    \n",
    "#Plot p, which is a vector of n numbers\n",
    "#Plot\n",
    "\n",
    "\n",
    "\n"
   ]
  }
 ],
 "metadata": {
  "kernelspec": {
   "display_name": "Python 3",
   "language": "python",
   "name": "python3"
  },
  "language_info": {
   "codemirror_mode": {
    "name": "ipython",
    "version": 3
   },
   "file_extension": ".py",
   "mimetype": "text/x-python",
   "name": "python",
   "nbconvert_exporter": "python",
   "pygments_lexer": "ipython3",
   "version": "3.7.4"
  }
 },
 "nbformat": 4,
 "nbformat_minor": 2
}
